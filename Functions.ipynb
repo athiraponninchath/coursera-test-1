{
 "cells": [
  {
   "cell_type": "markdown",
   "id": "e86ff66b",
   "metadata": {},
   "source": [
    "FUNCTIONS"
   ]
  },
  {
   "cell_type": "code",
   "execution_count": 86,
   "id": "8374eb01",
   "metadata": {},
   "outputs": [
    {
     "name": "stdout",
     "output_type": "stream",
     "text": [
      "hello ! have a nice day athira\n"
     ]
    }
   ],
   "source": [
    "def greet(name):\n",
    "    print('hello ! have a nice day',name)\n",
    "greet('athira')"
   ]
  },
  {
   "cell_type": "code",
   "execution_count": 88,
   "id": "a17cd261",
   "metadata": {},
   "outputs": [
    {
     "name": "stdout",
     "output_type": "stream",
     "text": [
      "hello ! have a nice day steve\n",
      "Enter the first number : 3\n",
      "Enter the second number : 4\n",
      "sum :  7\n"
     ]
    }
   ],
   "source": [
    "\n",
    "greet('steve')\n",
    "def add_numbers(a,b):\n",
    "    sum=a+b\n",
    "    print('sum : ',sum)\n",
    "p=int(input('Enter the first number : '))\n",
    "q=int(input('Enter the second number : '))\n",
    "\n",
    "add_numbers(p,q)"
   ]
  },
  {
   "cell_type": "code",
   "execution_count": 89,
   "id": "36257346",
   "metadata": {},
   "outputs": [
    {
     "name": "stdout",
     "output_type": "stream",
     "text": [
      "hello ! have a nice day aswathy\n",
      "enter the number: 5\n",
      "None\n"
     ]
    }
   ],
   "source": [
    "greet('aswathy')\n",
    "def sq(a):\n",
    "    res=a*a\n",
    "n=int(input('enter the number: '))\n",
    "print(sq(n))\n",
    "    "
   ]
  },
  {
   "cell_type": "code",
   "execution_count": 90,
   "id": "77ac3403",
   "metadata": {},
   "outputs": [
    {
     "name": "stdout",
     "output_type": "stream",
     "text": [
      "hello ! have a nice day arya\n",
      "enter the principle amount : 2000\n",
      "enter the rate in percentage: 5\n",
      "enter the time period in years: 2\n",
      "200.0\n"
     ]
    }
   ],
   "source": [
    "greet('arya')\n",
    "def CI(P,R,T):\n",
    "    compound=(P*R*T)/100\n",
    "    return compound\n",
    "p=int(input('enter the principle amount : '))\n",
    "r=int(input('enter the rate in percentage: '))\n",
    "t=int(input('enter the time period in years: '))\n",
    "print(CI(p,r,t))\n"
   ]
  },
  {
   "cell_type": "code",
   "execution_count": 91,
   "id": "73c4cd42",
   "metadata": {},
   "outputs": [
    {
     "name": "stdout",
     "output_type": "stream",
     "text": [
      "hello ! have a nice day jobin\n",
      "Enter the word please: malayalam\n",
      "its a palindrome\n"
     ]
    }
   ],
   "source": [
    "greet('jobin')\n",
    "def palindrome(word):\n",
    "        if word[ : :1]==word[ : :-1]:\n",
    "            print('its a palindrome')\n",
    "        else:\n",
    "            print('not palindrome')\n",
    "\n",
    "W=input('Enter the word please: ')\n",
    "palindrome(W)\n",
    "    "
   ]
  },
  {
   "cell_type": "code",
   "execution_count": 83,
   "id": "37b38bee",
   "metadata": {},
   "outputs": [
    {
     "name": "stdout",
     "output_type": "stream",
     "text": [
      "15\n",
      "500\n",
      "6000\n"
     ]
    }
   ],
   "source": [
    "def pdt(x):\n",
    "    return 5*x\n",
    "print(pdt(3))\n",
    "print(pdt(100))\n",
    "print(pdt(1200))"
   ]
  },
  {
   "cell_type": "code",
   "execution_count": null,
   "id": "6360b8b7",
   "metadata": {},
   "outputs": [],
   "source": []
  },
  {
   "cell_type": "code",
   "execution_count": null,
   "id": "f9ea6d29",
   "metadata": {},
   "outputs": [],
   "source": []
  },
  {
   "cell_type": "code",
   "execution_count": null,
   "id": "d8a0dde7",
   "metadata": {},
   "outputs": [],
   "source": []
  },
  {
   "cell_type": "code",
   "execution_count": null,
   "id": "d506199a",
   "metadata": {},
   "outputs": [],
   "source": []
  }
 ],
 "metadata": {
  "kernelspec": {
   "display_name": "Python 3 (ipykernel)",
   "language": "python",
   "name": "python3"
  },
  "language_info": {
   "codemirror_mode": {
    "name": "ipython",
    "version": 3
   },
   "file_extension": ".py",
   "mimetype": "text/x-python",
   "name": "python",
   "nbconvert_exporter": "python",
   "pygments_lexer": "ipython3",
   "version": "3.9.13"
  }
 },
 "nbformat": 4,
 "nbformat_minor": 5
}
